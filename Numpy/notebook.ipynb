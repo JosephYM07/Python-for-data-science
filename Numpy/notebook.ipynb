{
 "cells": [
  {
   "attachments": {},
   "cell_type": "markdown",
   "metadata": {},
   "source": [
    "# Deber Numpy\n",
    "\n",
    "Dentro del grupo asignado (2 o 3 estudiantes) realizar 50  ejercicios del archivo: Numpy - 100 Exercises.pdf\n",
    "\n",
    "Nombres:\n",
    "\n",
    "-  \n",
    "- \n",
    "- Yépez Marín"
   ]
  },
  {
   "attachments": {},
   "cell_type": "markdown",
   "metadata": {},
   "source": [
    "#### 1. Import the numpy package under the name np"
   ]
  },
  {
   "cell_type": "code",
   "execution_count": 3,
   "metadata": {},
   "outputs": [],
   "source": [
    "import numpy as np"
   ]
  },
  {
   "attachments": {},
   "cell_type": "markdown",
   "metadata": {},
   "source": [
    "#### 2. Print the numpy version and the configuration "
   ]
  },
  {
   "cell_type": "code",
   "execution_count": 4,
   "metadata": {},
   "outputs": [
    {
     "name": "stdout",
     "output_type": "stream",
     "text": [
      "1.24.3\n"
     ]
    }
   ],
   "source": [
    "print(np.__version__)"
   ]
  },
  {
   "attachments": {},
   "cell_type": "markdown",
   "metadata": {},
   "source": [
    "3. Create a 3x3 matrix with values ranging from 0 to 8"
   ]
  },
  {
   "cell_type": "code",
   "execution_count": 5,
   "metadata": {},
   "outputs": [
    {
     "name": "stdout",
     "output_type": "stream",
     "text": [
      "Los valores de la matriz son: \n",
      " [[0 1 2]\n",
      " [3 4 5]\n",
      " [6 7 8]]\n"
     ]
    }
   ],
   "source": [
    "values = np.arange(9).reshape(3, 3)\n",
    "print(f\"Los valores de la matriz son: \\n {values}\" )"
   ]
  },
  {
   "attachments": {},
   "cell_type": "markdown",
   "metadata": {},
   "source": [
    "#### 4. Create a random vector of size 30 and find the mean value (★☆☆)"
   ]
  },
  {
   "cell_type": "code",
   "execution_count": 6,
   "metadata": {},
   "outputs": [
    {
     "name": "stdout",
     "output_type": "stream",
     "text": [
      "Valores agregados a la matriz \n",
      "\n",
      "[0.86125764 0.92587154 0.83233656 0.21698661 0.70627934 0.39341308\n",
      " 0.24461878 0.90138591 0.93396775 0.80353651 0.31007334 0.08800358\n",
      " 0.14850057 0.20654147 0.9899607  0.56115667 0.53757269 0.66616779\n",
      " 0.38789845 0.0263073  0.87045269 0.70788554 0.95659281 0.67931742\n",
      " 0.9448471  0.81868828 0.07459835 0.8893502  0.07322787 0.79751838]\n",
      "\n",
      "Media de la matriz 0.59\n"
     ]
    }
   ],
   "source": [
    "X=np.random.random(30)\n",
    "mean=X.mean()\n",
    "round_values=round(mean,2)\n",
    "print(f\"Valores agregados a la matriz \\n\\n{X}\");\n",
    "print(f\"\\nMedia de la matriz {round_values}\")"
   ]
  },
  {
   "attachments": {},
   "cell_type": "markdown",
   "metadata": {},
   "source": [
    "#### 5. Multiply a 5x3 matrix by a 3x2 matrix (real matrix product)"
   ]
  },
  {
   "cell_type": "code",
   "execution_count": 7,
   "metadata": {},
   "outputs": [
    {
     "name": "stdout",
     "output_type": "stream",
     "text": [
      "Matriz 1\n",
      " [[0.6802203  0.88767598 0.67473803]\n",
      " [0.86025873 0.69935526 0.75526856]\n",
      " [0.54752585 0.95734032 0.01072212]\n",
      " [0.79948274 0.71433667 0.46666428]\n",
      " [0.90588719 0.30332134 0.29614561]]\n",
      "Matriz 2\n",
      " [[0.16033874 0.2716755 ]\n",
      " [0.61639361 0.9684616 ]\n",
      " [0.33953126 0.50828707]]\n",
      "\n",
      "Producto: \n",
      "[[0.88531812 1.3874399 ]\n",
      " [0.82544819 1.29490317]\n",
      " [0.68152856 1.08134661]\n",
      " [0.72694772 1.14620693]\n",
      " [0.43276484 0.69038941]]\n"
     ]
    }
   ],
   "source": [
    "matrix1=np.random.rand(5,3)\n",
    "matrix2=np.random.rand(3,2)\n",
    "result=np.dot(matrix1,matrix2)\n",
    "print(f\"Matriz 1\\n {matrix1}\")\n",
    "print(f\"Matriz 2\\n {matrix2}\")\n",
    "print(f\"\\nProducto: \\n{result}\")"
   ]
  },
  {
   "attachments": {},
   "cell_type": "markdown",
   "metadata": {},
   "source": [
    "Alejandro Moreira"
   ]
  },
  {
   "cell_type": "code",
   "execution_count": 8,
   "metadata": {},
   "outputs": [
    {
     "name": "stdout",
     "output_type": "stream",
     "text": [
      "[0. 0. 0. 0. 0. 0. 0. 0. 0. 0.]\n"
     ]
    }
   ],
   "source": [
    "z=np.zeros(10)\n",
    "print(z)"
   ]
  }
 ],
 "metadata": {
  "kernelspec": {
   "display_name": "base",
   "language": "python",
   "name": "python3"
  },
  "language_info": {
   "codemirror_mode": {
    "name": "ipython",
    "version": 3
   },
   "file_extension": ".py",
   "mimetype": "text/x-python",
   "name": "python",
   "nbconvert_exporter": "python",
   "pygments_lexer": "ipython3",
   "version": "3.10.9"
  },
  "orig_nbformat": 4
 },
 "nbformat": 4,
 "nbformat_minor": 2
}
