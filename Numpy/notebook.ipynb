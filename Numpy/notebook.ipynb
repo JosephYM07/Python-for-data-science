{
 "cells": [
  {
   "attachments": {},
   "cell_type": "markdown",
   "metadata": {},
   "source": [
    "# Deber Numpy\n",
    "\n",
    "Dentro del grupo asignado (2 o 3 estudiantes) realizar 50  ejercicios del archivo: Numpy - 100 Exercises.pdf\n",
    "\n",
    "Nombres:\n",
    "\n",
    "- Moreira Alejandro\n",
    "- Valenzuela\n",
    "- Yépez Marín"
   ]
  },
  {
   "attachments": {},
   "cell_type": "markdown",
   "metadata": {},
   "source": [
    "#### 1. Import the numpy package under the name np"
   ]
  },
  {
   "cell_type": "code",
   "execution_count": 64,
   "metadata": {},
   "outputs": [],
   "source": [
    "# Joseph Yepez\n",
    "import numpy as np"
   ]
  },
  {
   "attachments": {},
   "cell_type": "markdown",
   "metadata": {},
   "source": [
    "#### 2. Print the numpy version and the configuration "
   ]
  },
  {
   "cell_type": "code",
   "execution_count": 2,
   "metadata": {},
   "outputs": [
    {
     "name": "stdout",
     "output_type": "stream",
     "text": [
      "1.23.5\n"
     ]
    }
   ],
   "source": [
    "print(np.__version__)"
   ]
  },
  {
   "attachments": {},
   "cell_type": "markdown",
   "metadata": {},
   "source": [
    "#### 3. Create a 3x3 matrix with values ranging from 0 to 8"
   ]
  },
  {
   "cell_type": "code",
   "execution_count": 3,
   "metadata": {},
   "outputs": [
    {
     "name": "stdout",
     "output_type": "stream",
     "text": [
      "Los valores de la matriz son: \n",
      " [[0 1 2]\n",
      " [3 4 5]\n",
      " [6 7 8]]\n"
     ]
    }
   ],
   "source": [
    "values = np.arange(9).reshape(3, 3)\n",
    "print(f\"Los valores de la matriz son: \\n {values}\" )"
   ]
  },
  {
   "attachments": {},
   "cell_type": "markdown",
   "metadata": {},
   "source": [
    "#### 4. Create a random vector of size 30 and find the mean value (★☆☆)"
   ]
  },
  {
   "cell_type": "code",
   "execution_count": 4,
   "metadata": {},
   "outputs": [
    {
     "name": "stdout",
     "output_type": "stream",
     "text": [
      "Valores agregados a la matriz \n",
      "\n",
      "[0.44320581 0.43861588 0.49763842 0.1142685  0.79704182 0.01370428\n",
      " 0.23297088 0.88868197 0.62271379 0.76938856 0.91449628 0.25701124\n",
      " 0.09517465 0.57163611 0.30968999 0.84279921 0.4060728  0.69527756\n",
      " 0.69277538 0.41062236 0.85570783 0.64017446 0.49552999 0.34584413\n",
      " 0.95078739 0.98499455 0.1529161  0.15616561 0.24064803 0.62490646]\n",
      "\n",
      "Media de la matriz 0.52\n"
     ]
    }
   ],
   "source": [
    "X=np.random.random(30)\n",
    "mean=X.mean()\n",
    "round_values=round(mean,2)\n",
    "print(f\"Valores agregados a la matriz \\n\\n{X}\");\n",
    "print(f\"\\nMedia de la matriz {round_values}\")"
   ]
  },
  {
   "attachments": {},
   "cell_type": "markdown",
   "metadata": {},
   "source": [
    "#### 5. Multiply a 5x3 matrix by a 3x2 matrix (real matrix product)"
   ]
  },
  {
   "cell_type": "code",
   "execution_count": 44,
   "metadata": {},
   "outputs": [
    {
     "name": "stdout",
     "output_type": "stream",
     "text": [
      "Matriz 1\n",
      " [[0.03926193 0.6697252  0.95748624]\n",
      " [0.32485593 0.80789412 0.33448046]\n",
      " [0.51954943 0.19551482 0.74740517]\n",
      " [0.22276163 0.59525702 0.15150995]\n",
      " [0.16200471 0.03390697 0.5179853 ]]\n",
      "Matriz 2\n",
      " [[0.78985405 0.48099084]\n",
      " [0.21327418 0.36749062]\n",
      " [0.22279945 0.11953574]]\n",
      "\n",
      "Producto: \n",
      "[[0.3871737  0.37945618]\n",
      " [0.5034138  0.4931286 ]\n",
      " [0.61858795 0.41109   ]\n",
      " [0.33665847 0.34400853]\n",
      " [0.2505984  0.15230103]]\n"
     ]
    }
   ],
   "source": [
    "matrix1=np.random.rand(5,3)\n",
    "matrix2=np.random.rand(3,2)\n",
    "result=np.dot(matrix1,matrix2)\n",
    "print(f\"Matriz 1\\n {matrix1}\")\n",
    "print(f\"Matriz 2\\n {matrix2}\")\n",
    "print(f\"\\nProducto: \\n{result}\")"
   ]
  },
  {
   "attachments": {},
   "cell_type": "markdown",
   "metadata": {},
   "source": [
    "Create a 3x3x3 array with random values "
   ]
  },
  {
   "cell_type": "code",
   "execution_count": 45,
   "metadata": {},
   "outputs": [
    {
     "name": "stdout",
     "output_type": "stream",
     "text": [
      "[[[0.41974667 0.21892027 0.87150328]\n",
      "  [0.50275497 0.93654759 0.83384578]\n",
      "  [0.6898944  0.35684431 0.58120609]]\n",
      "\n",
      " [[0.73183565 0.67222155 0.62714003]\n",
      "  [0.94516033 0.10618885 0.20871623]\n",
      "  [0.88451449 0.36060772 0.94729551]]\n",
      "\n",
      " [[0.25372368 0.65220251 0.79093465]\n",
      "  [0.76012255 0.05355816 0.93018174]\n",
      "  [0.7779652  0.00354813 0.55819607]]]\n"
     ]
    }
   ],
   "source": [
    "Z = np.random.random((3,3,3)) # Matriz de 3 dimensiones con valores aleatorios entre 0 y 1 \n",
    "print(Z)"
   ]
  },
  {
   "attachments": {},
   "cell_type": "markdown",
   "metadata": {},
   "source": [
    "Create a 10x10 array with random values and find the minimum and maximum values"
   ]
  },
  {
   "cell_type": "code",
   "execution_count": 47,
   "metadata": {},
   "outputs": [
    {
     "name": "stdout",
     "output_type": "stream",
     "text": [
      "0.006462206759880962 0.9881429502810583\n"
     ]
    }
   ],
   "source": [
    "Z = np.random.random((10,10)) # Matriz de 10x10 con valores aleatorios entre 0 y 1\n",
    "Zmin, Zmax = Z.min(), Z.max() # Valor mínimo y máximo de la matriz\n",
    "print(Zmin, Zmax)\n"
   ]
  },
  {
   "attachments": {},
   "cell_type": "markdown",
   "metadata": {},
   "source": [
    "How to add a border (filled with 0's) around an existing array?"
   ]
  },
  {
   "cell_type": "code",
   "execution_count": 51,
   "metadata": {},
   "outputs": [
    {
     "name": "stdout",
     "output_type": "stream",
     "text": [
      "[[0. 0. 0. 0. 0. 0. 0.]\n",
      " [0. 1. 1. 1. 1. 1. 0.]\n",
      " [0. 1. 1. 1. 1. 1. 0.]\n",
      " [0. 1. 1. 1. 1. 1. 0.]\n",
      " [0. 1. 1. 1. 1. 1. 0.]\n",
      " [0. 1. 1. 1. 1. 1. 0.]\n",
      " [0. 0. 0. 0. 0. 0. 0.]]\n"
     ]
    }
   ],
   "source": [
    "Z = np.ones((5,5)) # Matriz de 5x5 con valores 1 en los bordes y 0 en el interior \n",
    "Z = np.pad(Z, pad_width=1, mode='constant', constant_values=0) # Agrega un borde de 0 a la matriz \n",
    "print(Z)"
   ]
  },
  {
   "attachments": {},
   "cell_type": "markdown",
   "metadata": {},
   "source": [
    "Create a 5x5 matrix with values 1,2,3,4 just below the diagonal"
   ]
  },
  {
   "cell_type": "code",
   "execution_count": 52,
   "metadata": {},
   "outputs": [
    {
     "name": "stdout",
     "output_type": "stream",
     "text": [
      "[[0 0 0 0 0]\n",
      " [1 0 0 0 0]\n",
      " [0 2 0 0 0]\n",
      " [0 0 3 0 0]\n",
      " [0 0 0 4 0]]\n"
     ]
    }
   ],
   "source": [
    "Z = np.diag(1+np.arange(4),k=-1)\n",
    "print(Z)"
   ]
  },
  {
   "attachments": {},
   "cell_type": "markdown",
   "metadata": {},
   "source": [
    "Create a 2d array with 1 on the border and 0 inside "
   ]
  },
  {
   "cell_type": "code",
   "execution_count": 53,
   "metadata": {},
   "outputs": [
    {
     "name": "stdout",
     "output_type": "stream",
     "text": [
      "[[1. 1. 1. 1. 1. 1. 1. 1. 1. 1.]\n",
      " [1. 0. 0. 0. 0. 0. 0. 0. 0. 1.]\n",
      " [1. 0. 0. 0. 0. 0. 0. 0. 0. 1.]\n",
      " [1. 0. 0. 0. 0. 0. 0. 0. 0. 1.]\n",
      " [1. 0. 0. 0. 0. 0. 0. 0. 0. 1.]\n",
      " [1. 0. 0. 0. 0. 0. 0. 0. 0. 1.]\n",
      " [1. 0. 0. 0. 0. 0. 0. 0. 0. 1.]\n",
      " [1. 0. 0. 0. 0. 0. 0. 0. 0. 1.]\n",
      " [1. 0. 0. 0. 0. 0. 0. 0. 0. 1.]\n",
      " [1. 1. 1. 1. 1. 1. 1. 1. 1. 1.]]\n"
     ]
    }
   ],
   "source": [
    "Z = np.ones((10,10))\n",
    "Z[1:-1,1:-1] = 0\n",
    "print(Z)"
   ]
  },
  {
   "attachments": {},
   "cell_type": "markdown",
   "metadata": {},
   "source": [
    "Create a 8x8 matrix and fill it with a checkerboard pattern"
   ]
  },
  {
   "cell_type": "code",
   "execution_count": 55,
   "metadata": {},
   "outputs": [
    {
     "name": "stdout",
     "output_type": "stream",
     "text": [
      "[[0 1 0 1 0 1 0 1]\n",
      " [1 0 1 0 1 0 1 0]\n",
      " [0 1 0 1 0 1 0 1]\n",
      " [1 0 1 0 1 0 1 0]\n",
      " [0 1 0 1 0 1 0 1]\n",
      " [1 0 1 0 1 0 1 0]\n",
      " [0 1 0 1 0 1 0 1]\n",
      " [1 0 1 0 1 0 1 0]]\n"
     ]
    }
   ],
   "source": [
    "Z = np.zeros((8,8),dtype=int)\n",
    "Z[1::2,::2] = 1\n",
    "Z[::2,1::2] = 1\n",
    "print(Z)"
   ]
  },
  {
   "attachments": {},
   "cell_type": "markdown",
   "metadata": {},
   "source": [
    "Consider a (6,7,8) shape array, what is the index (x,y,z) of the 100th element?"
   ]
  },
  {
   "cell_type": "code",
   "execution_count": 56,
   "metadata": {},
   "outputs": [
    {
     "name": "stdout",
     "output_type": "stream",
     "text": [
      "(1, 5, 3)\n"
     ]
    }
   ],
   "source": [
    "print(np.unravel_index(99,(6,7,8)))"
   ]
  },
  {
   "attachments": {},
   "cell_type": "markdown",
   "metadata": {},
   "source": [
    "Create a custom dtype that describes a color as four unsigned bytes (RGBA)"
   ]
  },
  {
   "cell_type": "code",
   "execution_count": 59,
   "metadata": {},
   "outputs": [
    {
     "name": "stdout",
     "output_type": "stream",
     "text": [
      "[('r', 'u1'), ('g', 'u1'), ('b', 'u1'), ('a', 'u1')]\n"
     ]
    }
   ],
   "source": [
    "color = np.dtype([(\"r\", np.ubyte),\n",
    "                  (\"g\", np.ubyte),\n",
    "                  (\"b\", np.ubyte),\n",
    "                  (\"a\", np.ubyte)])\n",
    "print(color)"
   ]
  },
  {
   "attachments": {},
   "cell_type": "markdown",
   "metadata": {},
   "source": [
    "Consider an integer vector Z, which of these expressions are legal? "
   ]
  },
  {
   "cell_type": "code",
   "execution_count": 62,
   "metadata": {},
   "outputs": [
    {
     "ename": "ValueError",
     "evalue": "The truth value of an array with more than one element is ambiguous. Use a.any() or a.all()",
     "output_type": "error",
     "traceback": [
      "\u001b[1;31m---------------------------------------------------------------------------\u001b[0m",
      "\u001b[1;31mValueError\u001b[0m                                Traceback (most recent call last)",
      "Cell \u001b[1;32mIn[62], line 6\u001b[0m\n\u001b[0;32m      4\u001b[0m \u001b[39m1\u001b[39mj\u001b[39m*\u001b[39mZ\n\u001b[0;32m      5\u001b[0m Z\u001b[39m/\u001b[39m\u001b[39m1\u001b[39m\u001b[39m/\u001b[39m\u001b[39m1\u001b[39m\n\u001b[1;32m----> 6\u001b[0m Z\u001b[39m<\u001b[39mZ\u001b[39m>\u001b[39mZ\n",
      "\u001b[1;31mValueError\u001b[0m: The truth value of an array with more than one element is ambiguous. Use a.any() or a.all()"
     ]
    }
   ],
   "source": [
    "Z**Z\n",
    "2 << Z >> 2\n",
    "Z <- Z\n",
    "1j*Z\n",
    "Z/1/1\n",
    "Z<Z>Z "
   ]
  },
  {
   "attachments": {},
   "cell_type": "markdown",
   "metadata": {},
   "source": [
    "Alejandro Moreira\n"
   ]
  },
  {
   "attachments": {},
   "cell_type": "markdown",
   "metadata": {},
   "source": [
    " 1.- How to find the memory size of any array  (#4)"
   ]
  },
  {
   "cell_type": "code",
   "execution_count": 7,
   "metadata": {},
   "outputs": [
    {
     "name": "stdout",
     "output_type": "stream",
     "text": [
      "800 bytes\n"
     ]
    }
   ],
   "source": [
    "z=np.zeros((10,10))   #crea una matriz de ceros de 10 filas y 10 columnas\n",
    "print(\"%d bytes\" % (z.size*z.itemsize))   # imprime la cantidad de bytes que ocupa la matriz z"
   ]
  },
  {
   "attachments": {},
   "cell_type": "markdown",
   "metadata": {},
   "source": [
    "2.- Create a null vector of size 10    (#3)"
   ]
  },
  {
   "cell_type": "code",
   "execution_count": 8,
   "metadata": {},
   "outputs": [
    {
     "name": "stdout",
     "output_type": "stream",
     "text": [
      "[0. 0. 0. 0. 0. 0. 0. 0. 0. 0.]\n"
     ]
    }
   ],
   "source": [
    "z=np.zeros(10)  #arreglo unidimensional de tamaño 10 lleno de ceros\n",
    "print(z)  #toma el arreglo z como argumento y muestra su contenido en la consola"
   ]
  },
  {
   "attachments": {},
   "cell_type": "markdown",
   "metadata": {},
   "source": [
    "3.- Create a null vector of size 10 but the fifth value which is 1     (#6)"
   ]
  },
  {
   "cell_type": "code",
   "execution_count": 9,
   "metadata": {},
   "outputs": [
    {
     "name": "stdout",
     "output_type": "stream",
     "text": [
      "[0. 0. 0. 0. 1. 0. 0. 0. 0. 0.]\n"
     ]
    }
   ],
   "source": [
    "z=np.zeros(10)  #crea un arreglo unidimensional de tamaño 10 lleno de ceros\n",
    "z[4]=1   #asigna el valor 1 al quinto elemento (índice 4) del arreglo z\n",
    "print(z)  #imprime el arreglo z"
   ]
  },
  {
   "attachments": {},
   "cell_type": "markdown",
   "metadata": {},
   "source": [
    "4.- Reverse a vector (first element becomes last)     (#8)"
   ]
  },
  {
   "cell_type": "code",
   "execution_count": 10,
   "metadata": {},
   "outputs": [
    {
     "name": "stdout",
     "output_type": "stream",
     "text": [
      "[49 48 47 46 45 44 43 42 41 40 39 38 37 36 35 34 33 32 31 30 29 28 27 26\n",
      " 25 24 23 22 21 20 19 18 17 16 15 14 13 12 11 10  9  8  7  6  5  4  3  2\n",
      "  1  0]\n"
     ]
    }
   ],
   "source": [
    "z=np.arange(50)  #genera una secuencia de números desde 0 hasta 49.\n",
    "z=z[::-1]    #muestra los elementos del arreglo en orden inverso\n",
    "print(z)"
   ]
  },
  {
   "attachments": {},
   "cell_type": "markdown",
   "metadata": {},
   "source": [
    "5.- Create a 3x3 identity matrix   (#11)"
   ]
  },
  {
   "cell_type": "code",
   "execution_count": 11,
   "metadata": {},
   "outputs": [
    {
     "name": "stdout",
     "output_type": "stream",
     "text": [
      "[[1. 0. 0.]\n",
      " [0. 1. 0.]\n",
      " [0. 0. 1.]]\n"
     ]
    }
   ],
   "source": [
    "z=np.eye(3)   # crea una matriz cuadrada con unos en la diagonal principal y ceros en el resto de las posiciones\n",
    "print(z)  "
   ]
  },
  {
   "attachments": {},
   "cell_type": "markdown",
   "metadata": {},
   "source": [
    "6.-  Extract the integer part of a random array of positive numbers using 4 different methods (#36)"
   ]
  },
  {
   "cell_type": "code",
   "execution_count": 12,
   "metadata": {},
   "outputs": [
    {
     "name": "stdout",
     "output_type": "stream",
     "text": [
      "[5. 7. 5. 3. 7. 3. 2. 3. 2. 1.]\n",
      "[5. 7. 5. 3. 7. 3. 2. 3. 2. 1.]\n",
      "[5. 7. 5. 3. 7. 3. 2. 3. 2. 1.]\n",
      "[5 7 5 3 7 3 2 3 2 1]\n",
      "[5. 7. 5. 3. 7. 3. 2. 3. 2. 1.]\n"
     ]
    }
   ],
   "source": [
    "z=np.random.uniform(0,10,10)   #genera un arreglo unidimensional de tamaño 10 con valores aleatorios distribuidos en el rango de 0 a 10\n",
    "print(z-z%1)    #imprime el resultado de restarle el residuo de la división entera de cada elemento de z por 1\n",
    "print(z//1)     #imprime  el resultado de dividir cada elemento de z por 1 utilizando la división entera\n",
    "print(np.floor(z))    #imprime el resultado y redondea hacia abajo cada número al entero más cercano\n",
    "print(z.astype(int))  #cambia el tipo de datos del arreglo, convierte cada elemento de z en un número entero\n",
    "print(np.trunc(z))    #trunca los decimales de cada número en el arreglo, dejando solo la parte entera"
   ]
  },
  {
   "attachments": {},
   "cell_type": "markdown",
   "metadata": {},
   "source": [
    "7.- How to get all the dates corresponding to the month of July 2016? (#34)"
   ]
  },
  {
   "cell_type": "code",
   "execution_count": 13,
   "metadata": {},
   "outputs": [
    {
     "name": "stdout",
     "output_type": "stream",
     "text": [
      "['2016-07-01' '2016-07-02' '2016-07-03' '2016-07-04' '2016-07-05'\n",
      " '2016-07-06' '2016-07-07' '2016-07-08' '2016-07-09' '2016-07-10'\n",
      " '2016-07-11' '2016-07-12' '2016-07-13' '2016-07-14' '2016-07-15'\n",
      " '2016-07-16' '2016-07-17' '2016-07-18' '2016-07-19' '2016-07-20'\n",
      " '2016-07-21' '2016-07-22' '2016-07-23' '2016-07-24' '2016-07-25'\n",
      " '2016-07-26' '2016-07-27' '2016-07-28' '2016-07-29' '2016-07-30'\n",
      " '2016-07-31']\n"
     ]
    }
   ],
   "source": [
    "z=np.arange('2016-07', '2016-08', dtype='datetime64[D]')   #muestra fechas dentro de un rango específico\n",
    "print(z)"
   ]
  },
  {
   "attachments": {},
   "cell_type": "markdown",
   "metadata": {},
   "source": [
    "8.-Consider a generator function that generates 10 integers and use it to build an array (#38)"
   ]
  },
  {
   "cell_type": "code",
   "execution_count": 14,
   "metadata": {},
   "outputs": [
    {
     "name": "stdout",
     "output_type": "stream",
     "text": [
      "[0. 1. 2. 3. 4. 5. 6. 7. 8. 9.]\n"
     ]
    }
   ],
   "source": [
    "def generate():\n",
    "    for x in range(10):    # recorre los valores del rango desde 0 hasta 9 \n",
    "        yield x            #  genera un valor en cada iteración del bucle  \n",
    "z=np.fromiter(generate(),dtype=float,count=-1)  # los valores se convierten en números de punto flotante y se asignan a la variable z.\n",
    "print(z)"
   ]
  },
  {
   "attachments": {},
   "cell_type": "markdown",
   "metadata": {},
   "source": [
    "9.- Consider a random 10x2 matrix representing cartesian coordinates, convert them to polar coordinates (#44)"
   ]
  },
  {
   "cell_type": "code",
   "execution_count": 15,
   "metadata": {},
   "outputs": [
    {
     "name": "stdout",
     "output_type": "stream",
     "text": [
      "[1.04716587 0.99308882 0.71330156 0.05456256 0.60561228 0.72618856\n",
      " 0.22520828 0.89975363 0.96700046 1.02838473]\n",
      "[0.92251408 0.36702713 1.54939551 0.89812298 1.41698803 1.5681448\n",
      " 0.814681   0.60807757 0.32640701 0.45505168]\n"
     ]
    }
   ],
   "source": [
    "z=np.random.random((10,2))  #genera una matriz de tamaño 10x2 con valores aleatorios en el rango [0, 1)\n",
    "x,y=z[:,0],z[:,1]           #extrae las columnas 0 y 1 de la matriz z y las asigna a las variables x e y respectivamente \n",
    "R=np.sqrt(x**2+y**2)        #calcula la magnitud o módulo de los vectores bidimensionales representados por las columnas x e y\n",
    "T=np.arctan2(y,x)           #calcula el ángulo en radianes de los vectores bidimensionales representados por las columnas x e y\n",
    "print(R)\n",
    "print(T)"
   ]
  },
  {
   "attachments": {},
   "cell_type": "markdown",
   "metadata": {},
   "source": [
    "10.- Create a structured array representing a position (x,y) and a color (r,g,b) (#51)"
   ]
  },
  {
   "cell_type": "code",
   "execution_count": 16,
   "metadata": {},
   "outputs": [
    {
     "name": "stdout",
     "output_type": "stream",
     "text": [
      "[((0., 0.), (0., 0., 0.)) ((0., 0.), (0., 0., 0.))\n",
      " ((0., 0.), (0., 0., 0.)) ((0., 0.), (0., 0., 0.))\n",
      " ((0., 0.), (0., 0., 0.)) ((0., 0.), (0., 0., 0.))\n",
      " ((0., 0.), (0., 0., 0.)) ((0., 0.), (0., 0., 0.))\n",
      " ((0., 0.), (0., 0., 0.)) ((0., 0.), (0., 0., 0.))]\n"
     ]
    },
    {
     "name": "stderr",
     "output_type": "stream",
     "text": [
      "C:\\Users\\FORYY\\AppData\\Local\\Temp\\ipykernel_13696\\2594699285.py:1: FutureWarning: Passing (type, 1) or '1type' as a synonym of type is deprecated; in a future version of numpy, it will be understood as (type, (1,)) / '(1,)type'.\n",
      "  z = np.zeros(10, [ ('position', [ ('x', float, 1),\n"
     ]
    }
   ],
   "source": [
    "z = np.zeros(10, [ ('position', [ ('x', float, 1),       \n",
    "                                  ('y', float, 1)]),\n",
    "                   ('color',    [ ('r', float, 1),\n",
    "                                  ('g', float, 1),\n",
    "                                  ('b', float, 1)])])      #crea un arreglo estructurado de tamaño 10 que consta de dos campos: 'position' y 'color'\n",
    "print(z)"
   ]
  },
  {
   "attachments": {},
   "cell_type": "markdown",
   "metadata": {},
   "source": [
    "11.- What is the equivalent of enumerate for numpy arrays? (#55)"
   ]
  },
  {
   "cell_type": "code",
   "execution_count": 17,
   "metadata": {},
   "outputs": [
    {
     "name": "stdout",
     "output_type": "stream",
     "text": [
      "(0, 0) 0\n",
      "(0, 1) 1\n",
      "(0, 2) 2\n",
      "(1, 0) 3\n",
      "(1, 1) 4\n",
      "(1, 2) 5\n",
      "(2, 0) 6\n",
      "(2, 1) 7\n",
      "(2, 2) 8\n",
      "(0, 0) 0\n",
      "(0, 1) 1\n",
      "(0, 2) 2\n",
      "(1, 0) 3\n",
      "(1, 1) 4\n",
      "(1, 2) 5\n",
      "(2, 0) 6\n",
      "(2, 1) 7\n",
      "(2, 2) 8\n"
     ]
    }
   ],
   "source": [
    "z=np.arange(9).reshape(3,3)   #crea un arreglo unidimensional utilizando la función arange de NumPy para generar los valores del 0 al 8\n",
    "for index,value in np.ndenumerate(z):  #itera sobre los índices y valores de la matriz z\n",
    "    print(index,value)                 #imprime el índice y el valor correspondiente en cada iteración del bucle\n",
    "for index in np.ndindex(z.shape):      #genera un iterador que devuelve las tuplas de índices en cada iteración\n",
    "    print(index,z[index])              #imprime en la consola el índice y el valor correspondiente en la matriz z en cada iteración del bucle"
   ]
  },
  {
   "attachments": {},
   "cell_type": "markdown",
   "metadata": {},
   "source": [
    "12.- How to randomly place p elements in a 2D array? (#57)"
   ]
  },
  {
   "cell_type": "code",
   "execution_count": 18,
   "metadata": {},
   "outputs": [
    {
     "name": "stdout",
     "output_type": "stream",
     "text": [
      "[[0. 0. 0. 0. 0. 0. 1. 0. 0. 0.]\n",
      " [0. 0. 0. 0. 0. 0. 0. 0. 0. 0.]\n",
      " [0. 0. 0. 0. 0. 0. 0. 0. 0. 0.]\n",
      " [1. 0. 0. 0. 0. 0. 0. 0. 0. 0.]\n",
      " [0. 0. 0. 0. 0. 0. 0. 0. 0. 0.]\n",
      " [0. 0. 0. 0. 0. 0. 0. 0. 0. 0.]\n",
      " [0. 0. 0. 0. 0. 0. 0. 0. 0. 0.]\n",
      " [0. 0. 0. 0. 0. 0. 0. 0. 0. 0.]\n",
      " [0. 0. 0. 0. 0. 0. 0. 0. 0. 1.]\n",
      " [0. 0. 0. 0. 0. 0. 0. 0. 0. 0.]]\n"
     ]
    }
   ],
   "source": [
    "n=10  #asigna el valor 10 a la variable n\n",
    "p=3   #asigna el valor 3 a la variable p\n",
    "z=np.zeros((n,n))  #crea una matriz cuadrada de tamaño n x n \n",
    "np.put(z,np.random.choice(range(n*n),p,replace=True),1)  #selecciona índices aleatorios y cambia los valores correspondientes a 1 \n",
    "print(z)"
   ]
  },
  {
   "attachments": {},
   "cell_type": "markdown",
   "metadata": {},
   "source": [
    "13.- How to accumulate elements of a vector (X) to an array (F) based on an index list (I)? (#65)"
   ]
  },
  {
   "cell_type": "code",
   "execution_count": 19,
   "metadata": {},
   "outputs": [
    {
     "name": "stdout",
     "output_type": "stream",
     "text": [
      "[0. 7. 0. 6. 5. 0. 0. 0. 0. 3.]\n"
     ]
    }
   ],
   "source": [
    "x=[1,2,3,4,5,6]    #crea una lista x que contiene valores numéricos del 1 al 6\n",
    "i=[1,3,9,3,4,1]    # crea una lista i que contiene índices\n",
    "f=np.bincount(i,x) #cuenta los elementos de una lista x utilizando una lista de índices i\n",
    "print(f)"
   ]
  },
  {
   "attachments": {},
   "cell_type": "markdown",
   "metadata": {},
   "source": [
    "14.- Considering a (w,h,3) image of (dtype=ubyte), compute the number of unique colors  (#66)"
   ]
  },
  {
   "cell_type": "code",
   "execution_count": 20,
   "metadata": {},
   "outputs": [
    {
     "name": "stdout",
     "output_type": "stream",
     "text": [
      "64\n",
      "64\n"
     ]
    }
   ],
   "source": [
    "w,h=256,256  #asigna los valores 256 a las variables w y h. Estas variables representan el ancho y la altura de una imagen\n",
    "i=np.random.randint(0,4,(h,w,3)).astype(np.ubyte)  #crea un arreglo tridimensional i de forma (h, w, 3). Los valores generados están en el rango de 0 a 4\n",
    "colors=np.unique(i.reshape(-1,3),axis=0) #cambia la forma del arreglo i a una matriz bidimensional de forma (-1, 3), donde -1 indica que se ajustará automáticamente el tamaño\n",
    "n=len(colors) #representa la cantidad de colores únicos presentes en la imagen\n",
    "print(n)\n",
    "w,h=256,256 #asigna nuevamente los valores 256 a las variables w y h\n",
    "i=np.random.randint(0,4,(h,w,3),dtype=np.uint8) #crea un nuevo arreglo i de forma (h, w, 3). Los valores generados están en el rango de 0 a 4\n",
    "i24=np.dot(i.astype(np.uint32),[1,256,65536]) #realiza una multiplicación matricial entre el arreglo i y una matriz de coeficientes [1, 256, 65536]\n",
    "n=len(np.unique(i24)) #calcula la cantidad de valores únicos en el arreglo i24 \n",
    "print(n)"
   ]
  },
  {
   "attachments": {},
   "cell_type": "markdown",
   "metadata": {},
   "source": [
    "15.- Consider an array of dimension (5,5,3), how to mulitply it by an array with dimensions (5,5)?   (#71)"
   ]
  },
  {
   "cell_type": "code",
   "execution_count": 21,
   "metadata": {},
   "outputs": [
    {
     "name": "stdout",
     "output_type": "stream",
     "text": [
      "[[[2. 2. 2.]\n",
      "  [2. 2. 2.]\n",
      "  [2. 2. 2.]\n",
      "  [2. 2. 2.]\n",
      "  [2. 2. 2.]]\n",
      "\n",
      " [[2. 2. 2.]\n",
      "  [2. 2. 2.]\n",
      "  [2. 2. 2.]\n",
      "  [2. 2. 2.]\n",
      "  [2. 2. 2.]]\n",
      "\n",
      " [[2. 2. 2.]\n",
      "  [2. 2. 2.]\n",
      "  [2. 2. 2.]\n",
      "  [2. 2. 2.]\n",
      "  [2. 2. 2.]]\n",
      "\n",
      " [[2. 2. 2.]\n",
      "  [2. 2. 2.]\n",
      "  [2. 2. 2.]\n",
      "  [2. 2. 2.]\n",
      "  [2. 2. 2.]]\n",
      "\n",
      " [[2. 2. 2.]\n",
      "  [2. 2. 2.]\n",
      "  [2. 2. 2.]\n",
      "  [2. 2. 2.]\n",
      "  [2. 2. 2.]]]\n"
     ]
    }
   ],
   "source": [
    "A=np.ones((5,5,3))  #crea un arreglo tridimensional A de tamaño (5, 5, 3)\n",
    "B=2*np.ones((5,5))  #crea un arreglo bidimensional B de tamaño (5, 5)\n",
    "print(A*B[:,:,None])  # realiza la multiplicación elemento a elemento entre un arreglo tridimensional A y un arreglo bidimensional B"
   ]
  },
  {
   "attachments": {},
   "cell_type": "markdown",
   "metadata": {},
   "source": [
    "16.- Given a sorted array C that corresponds to a bincount, how to produce an array A such that np.bincount(A) == C?   (#74)"
   ]
  },
  {
   "cell_type": "code",
   "execution_count": 22,
   "metadata": {},
   "outputs": [
    {
     "name": "stdout",
     "output_type": "stream",
     "text": [
      "[1 1 2 3 4 4 6]\n"
     ]
    }
   ],
   "source": [
    "C=np.bincount([1,1,2,3,4,4,6])  #cuenta las ocurrencias de cada número en la lista\n",
    "A=np.repeat(np.arange(len(C)),C) #crea un nuevo arreglo A que contiene las repeticiones de los números según las ocurrencias encontradas en C\n",
    "print(A)"
   ]
  },
  {
   "attachments": {},
   "cell_type": "markdown",
   "metadata": {},
   "source": [
    "17.- Consider 2 sets of points P0,P1 describing lines (2d) and a point p, how to compute distance from p to each line i (P0[i],P1[i])?  (#78)"
   ]
  },
  {
   "cell_type": "code",
   "execution_count": 23,
   "metadata": {},
   "outputs": [
    {
     "name": "stdout",
     "output_type": "stream",
     "text": [
      "[10.0766274   5.59662886  8.43928274  9.74293145 11.84006008 11.84890562\n",
      " 15.09687103  5.9698433   2.55157455  2.40698189]\n"
     ]
    }
   ],
   "source": [
    "def distance(P0,P1,p):  \n",
    "    T=P1-P0             #calcula la diferencia entre los puntos P1 y P0 y asigna el resultado a la variable T\n",
    "    L=(T**2).sum(axis=1)   #calcula la suma de los cuadrados de las componentes del vector T a lo largo del eje 1 y asigna el resultado a la variable L\n",
    "    U=-((P0[:,0]-p[...,0])*T[:,0]+(P0[:,1]-p[...,1])*T[:,1])/L  #calcula el parámetro U que indica la posición relativa del punto p a lo largo de la línea definida por P0 y P1\n",
    "    U=U.reshape(len(U),1)  #cambia la forma de U a una columna\n",
    "    D=P0+U*T-p   #calcula un vector D que representa la diferencia entre P0+U*T y p\n",
    "    return np.sqrt((D**2).sum(axis=1))  \n",
    "P0=np.random.uniform(-10,10,(10,2))      \n",
    "P1=np.random.uniform(-10,10,(10,2))      \n",
    "p=np.random.uniform(-10,10,(1,2))        \n",
    "print(distance(P0,P1,p))                 #calcula la distancia entre el punto p y la línea definida por P0 y P1 utilizando el vector D"
   ]
  },
  {
   "attachments": {},
   "cell_type": "markdown",
   "metadata": {},
   "source": [
    "18.- How to find the most frequent value in an array?  (#83)"
   ]
  },
  {
   "cell_type": "code",
   "execution_count": 24,
   "metadata": {},
   "outputs": [
    {
     "name": "stdout",
     "output_type": "stream",
     "text": [
      "<built-in method argmax of numpy.ndarray object at 0x000002C7A2E47E10>\n"
     ]
    }
   ],
   "source": [
    "z=np.random.randint(0,10,50)   #genera un arreglo z de tamaño 50 con números enteros aleatorios en el rango de 0 a 10\n",
    "print(np.bincount(z).argmax)   #muestra en la consola el valor más común en el arreglo"
   ]
  },
  {
   "attachments": {},
   "cell_type": "markdown",
   "metadata": {},
   "source": [
    "Jared Valenzuela "
   ]
  },
  {
   "attachments": {},
   "cell_type": "markdown",
   "metadata": {},
   "source": [
    "1.-Create a checkerboard 8x8 matrix using the tile function (#21)"
   ]
  },
  {
   "cell_type": "code",
   "execution_count": 25,
   "metadata": {},
   "outputs": [
    {
     "name": "stdout",
     "output_type": "stream",
     "text": [
      "[[0 1 0 1 0 1 0 1]\n",
      " [1 0 1 0 1 0 1 0]\n",
      " [0 1 0 1 0 1 0 1]\n",
      " [1 0 1 0 1 0 1 0]\n",
      " [0 1 0 1 0 1 0 1]\n",
      " [1 0 1 0 1 0 1 0]\n",
      " [0 1 0 1 0 1 0 1]\n",
      " [1 0 1 0 1 0 1 0]]\n"
     ]
    }
   ],
   "source": [
    "X = np.tile( np.array([[0,1],[1,0]]), (4,4))\n",
    "# La función tile se utiliza para repetir o \"extender\" una matriz o arreglo en una estructura \n",
    "print(X)"
   ]
  },
  {
   "attachments": {},
   "cell_type": "markdown",
   "metadata": {},
   "source": [
    "2.-Multiply a 5x3 matrix by a 3x2 matrix (real matrix product) (#24)"
   ]
  },
  {
   "cell_type": "code",
   "execution_count": 26,
   "metadata": {},
   "outputs": [
    {
     "name": "stdout",
     "output_type": "stream",
     "text": [
      "[[3. 3.]\n",
      " [3. 3.]\n",
      " [3. 3.]\n",
      " [3. 3.]\n",
      " [3. 3.]]\n",
      "[[3. 3.]\n",
      " [3. 3.]\n",
      " [3. 3.]\n",
      " [3. 3.]\n",
      " [3. 3.]]\n"
     ]
    }
   ],
   "source": [
    "Z = np.dot(np.ones((5,3)), np.ones((3,2)))\n",
    "print(Z)\n",
    "#La función dot se utiliza para realizar la multiplicación de matrices o el producto escalar entre vectores\n",
    "Z = np.ones((5,3)) @ np.ones((3,2))\n",
    "#el operador @ también conocido como operador de multiplicación de matrices\n",
    "print(Z)"
   ]
  },
  {
   "attachments": {},
   "cell_type": "markdown",
   "metadata": {},
   "source": [
    "3.-How to round away from zero a float array? (#29)"
   ]
  },
  {
   "cell_type": "code",
   "execution_count": 27,
   "metadata": {},
   "outputs": [
    {
     "name": "stdout",
     "output_type": "stream",
     "text": [
      "[ -5.   7.   1.   9.  -1.   8.   2.  -6.  -7. -10.]\n",
      "[ -5.   7.   1.   9.  -1.   8.   2.  -6.  -7. -10.]\n"
     ]
    }
   ],
   "source": [
    "Z = np.random.uniform(-10,+10,10)\n",
    "#La función uniform se utiliza para generar números aleatorios en un rango especificado\n",
    "print(np.copysign(np.ceil(np.abs(Z)), Z))\n",
    "# La función abs se utiliza para obtener el valor absoluto de cada elemento en la matriz Z\n",
    "# La función ceil se utiliza para redondear hacia arriba cada elemento obtenido en el paso anterior.\n",
    "# La función copysign se utiliza para copiar el signo de los elementos de la matriz Z a los elementos resultantes del paso anterior\n",
    "print(np.where(Z>0, np.ceil(Z), np.floor(Z)))\n",
    "\n"
   ]
  },
  {
   "attachments": {},
   "cell_type": "markdown",
   "metadata": {},
   "source": [
    "4.-Create a 5x5 matrix with row values ranging from 0 to 4 (#37)"
   ]
  },
  {
   "cell_type": "code",
   "execution_count": 28,
   "metadata": {},
   "outputs": [
    {
     "name": "stdout",
     "output_type": "stream",
     "text": [
      "[[0. 1. 2. 3. 4.]\n",
      " [0. 1. 2. 3. 4.]\n",
      " [0. 1. 2. 3. 4.]\n",
      " [0. 1. 2. 3. 4.]\n",
      " [0. 1. 2. 3. 4.]]\n",
      "[[0 1 2 3 4]\n",
      " [0 1 2 3 4]\n",
      " [0 1 2 3 4]\n",
      " [0 1 2 3 4]\n",
      " [0 1 2 3 4]]\n"
     ]
    }
   ],
   "source": [
    "Z = np.zeros((5,5))\n",
    "#La función zeros se utiliza para crear una matriz llena de ceros con las dimensiones especificadas. \n",
    "Z += np.arange(5)\n",
    "# El operador += para actualizar los valores de la matriz Z. La función arange de NumPy se utiliza para crear una secuencia de números desde 0 hasta 4 (0, 1, 2, 3, 4).\n",
    "print(Z)\n",
    "Z = np.tile(np.arange(0, 5), (5,1))\n",
    "#La función tile de NumPy para crear una matriz extendida en forma de mosaico. La función arange(0, 5) genera una secuencia de números desde 0 hasta 4 (0, 1, 2, 3, 4).\n",
    "#La función tile se utiliza para replicar esa secuencia de números en una estructura de mosaico con dimensiones especificadas. En este caso, se crea una matriz Z de tamaño 5x5 donde se copia la secuencia [0, 1, 2, 3, 4] a lo largo de las filas, manteniendo las mismas secuencias repetidas.\n",
    "print(Z)"
   ]
  },
  {
   "attachments": {},
   "cell_type": "markdown",
   "metadata": {},
   "source": [
    "5.-Create a random vector of size 10 and sort it(#40)"
   ]
  },
  {
   "cell_type": "code",
   "execution_count": 29,
   "metadata": {},
   "outputs": [
    {
     "name": "stdout",
     "output_type": "stream",
     "text": [
      "[0.05124567 0.13967982 0.21319148 0.25118647 0.29954527 0.41886881\n",
      " 0.59755592 0.80494849 0.87144792 0.89550331]\n"
     ]
    }
   ],
   "source": [
    "Z = np.random.random(10)\n",
    "#La función random se utiliza para generar una matriz de números aleatorios en el intervalo [0.0, 1.0) con la forma especificada\n",
    "Z.sort()\n",
    "#se utiliza el método sort para ordenar los elementos de la matriz Z de forma ascendente\n",
    "print(Z)"
   ]
  },
  {
   "attachments": {},
   "cell_type": "markdown",
   "metadata": {},
   "source": [
    "6.- Create random vector of size 10 and replace the maximum value by 0 (#45)"
   ]
  },
  {
   "cell_type": "code",
   "execution_count": 30,
   "metadata": {},
   "outputs": [
    {
     "name": "stdout",
     "output_type": "stream",
     "text": [
      "[0.44130663 0.77536884 0.16336881 0.20965657 0.02820978 0.71405483\n",
      " 0.42222835 0.79402472 0.83654313 0.        ]\n"
     ]
    }
   ],
   "source": [
    "Z = np.random.random(10)\n",
    "#La función random se utiliza para generar una matriz de números aleatorios en el intervalo [0.0, 1.0) con la forma especificada.\n",
    "Z[Z.argmax()] = 0\n",
    "#Se encuentra el valor máximo en la matriz Z, se identifica su posición y se establece ese elemento en la matriz Z como 0.\n",
    "print(Z)"
   ]
  },
  {
   "attachments": {},
   "cell_type": "markdown",
   "metadata": {},
   "source": [
    "7.- How to find the closest value (to a given scalar) in a vector?(#50)"
   ]
  },
  {
   "cell_type": "code",
   "execution_count": 31,
   "metadata": {},
   "outputs": [
    {
     "name": "stdout",
     "output_type": "stream",
     "text": [
      "26\n"
     ]
    }
   ],
   "source": [
    "Z = np.arange(100)\n",
    "#La función arange se utiliza para generar una secuencia de números enteros en un rango especificado.\n",
    "v = np.random.uniform(0,100)\n",
    "#La función uniform del módulo NumPy genera un número aleatorio que sigue una distribución uniforme en el rango [0, 100).\n",
    "index = (np.abs(Z-v)).argmin()\n",
    "#Calcula el valor absoluto de la diferencia entre cada elemento de la matriz Z y el valor aleatorio v. Esto crea una matriz que contiene las distancias absolutas entre v y cada elemento de Z.\n",
    "#argmin()se aplica a la matriz resultante de la expresión anterior y devuelve el índice del elemento que tiene el valor mínimo.\n",
    "print(Z[index])\n",
    "#Se imprime en la consola el valor del elemento en la matriz Z que corresponde al índice obtenido en la línea anterior."
   ]
  },
  {
   "attachments": {},
   "cell_type": "markdown",
   "metadata": {},
   "source": [
    "8.-How to sort an array by the nth column?(#59)"
   ]
  },
  {
   "cell_type": "code",
   "execution_count": 32,
   "metadata": {},
   "outputs": [
    {
     "name": "stdout",
     "output_type": "stream",
     "text": [
      "[[7 5 7]\n",
      " [2 6 4]\n",
      " [5 5 4]]\n",
      "[[7 5 7]\n",
      " [5 5 4]\n",
      " [2 6 4]]\n"
     ]
    }
   ],
   "source": [
    "Z = np.random.randint(0,10,(3,3))\n",
    "#La función randint se utiliza para generar números enteros aleatorios en un rango especificado.\n",
    "print(Z)\n",
    "#Se imprime en la consola el contenido de la matriz Z. El resultado mostrará los elementos de la matriz Z, que son números enteros aleatorios \n",
    "print(Z[Z[:,1].argsort()])\n",
    "#Z[:,1] selecciona la columna 1 de la matriz Z. Z[:,1] devuelve una vista de los elementos de la columna 1 como un arreglo unidimensional.\n",
    "#argsort() aplica al arreglo unidimensional obtenido anteriormente y devuelve los índices que ordenarían el arreglo en orden ascendente.\n",
    "#Z[Z[:,1].argsort()]las filas de Z se ordenan en función de los valores de la columna 1."
   ]
  },
  {
   "attachments": {},
   "cell_type": "markdown",
   "metadata": {},
   "source": [
    "9.-Find the nearest value from a given value in an array (#61)"
   ]
  },
  {
   "cell_type": "code",
   "execution_count": 33,
   "metadata": {},
   "outputs": [
    {
     "name": "stdout",
     "output_type": "stream",
     "text": [
      "0.5043011028346506\n"
     ]
    }
   ],
   "source": [
    "Z = np.random.uniform(0,1,10)\n",
    "# La función uniform se utiliza para generar números aleatorios en un rango especificado que sigue una distribución uniforme.\n",
    "z = 0.5\n",
    "#Se asigna el valor 0.5 a la variable z\n",
    "m = Z.flat[np.abs(Z - z).argmin()]\n",
    "#Z.flat retorna una vista plana (unidimensional) de los elementos de Z.\n",
    "#np.abs(Z - z) calcula la diferencia absoluta entre cada elemento de Z y el valor de referencia z.\n",
    "#argmin() aplica a la diferencia absoluta calculada anteriormente y devuelve el índice del elemento que tiene el valor mínimo.\n",
    "#Z.flat[np.abs(Z - z).argmin()] utiliza el índice obtenido del paso anterior para seleccionar el elemento correspondiente de la vista plana de Z.\n",
    "print(m)"
   ]
  },
  {
   "attachments": {},
   "cell_type": "markdown",
   "metadata": {},
   "source": [
    "10.-Considering two arrays with shape (1,3) and (3,1), how to compute their sum using an iterator? (#62)"
   ]
  },
  {
   "cell_type": "code",
   "execution_count": 34,
   "metadata": {},
   "outputs": [
    {
     "name": "stdout",
     "output_type": "stream",
     "text": [
      "[[0 1 2]\n",
      " [1 2 3]\n",
      " [2 3 4]]\n"
     ]
    }
   ],
   "source": [
    "A = np.arange(3).reshape(3,1)\n",
    "#La función arange se utiliza para generar una secuencia de números enteros en un rango especificado. Luego, se utiliza el método reshape para darle forma a la matriz resultante.\n",
    "B = np.arange(3).reshape(1,3)\n",
    "#Se crea una matriz B con forma 1x3. La matriz B contendrá los elementos [0, 1, 2] dispuestos en una fila.\n",
    "it = np.nditer([A,B,None])\n",
    "#la función nditer del módulo NumPy para crear un objeto iterador que recorrerá los elementos de las matrices A y B.\n",
    "#El objeto it se crea pasando una lista de las matrices a iterar. El tercer elemento de la lista, None, se utiliza para especificar una matriz de salida donde se almacenarán los resultados de las operaciones realizadas durante la iteración.\n",
    "for x,y,z in it: z[...] = x + y\n",
    "#Se inicia un bucle for que recorrerá los elementos de las matrices A y B mediante el iterador it. En cada iteración, se obtienen los elementos x de A, y de B y z de la matriz de salida.\n",
    "#Dentro del bucle, se realiza la operación z[...] = x + y, que suma los elementos x y y y almacena el resultado en z. El operador [...] se utiliza para asignar el valor sin cambiar la forma ni el tipo de datos de z.\n",
    "print(it.operands[2])"
   ]
  },
  {
   "attachments": {},
   "cell_type": "markdown",
   "metadata": {},
   "source": [
    "11.-Consider a given vector, how to add 1 to each element indexed by a second vector (be careful with repeated indices)? (#64)"
   ]
  },
  {
   "cell_type": "code",
   "execution_count": 35,
   "metadata": {},
   "outputs": [
    {
     "name": "stdout",
     "output_type": "stream",
     "text": [
      "[3. 3. 2. 2. 4. 4. 2. 4. 4. 2.]\n",
      "[5. 5. 3. 3. 7. 7. 3. 7. 7. 3.]\n"
     ]
    }
   ],
   "source": [
    "Z = np.ones(10)\n",
    "#Se crea un arreglo de tamaño 10 llamado Z que contiene solo unos. La función ones se utiliza para generar un arreglo con valores de 1.\n",
    "I = np.random.randint(0,len(Z),20)\n",
    "# la función randint del módulo NumPy genera un arreglo llamado I que contiene 20 números enteros aleatorios. La función randint genera enteros aleatorios en el rango entre 0 y el tamaño de Z\n",
    "Z += np.bincount(I, minlength=len(Z))\n",
    "#np.bincount(I, minlength=len(Z)) cuenta la frecuencia de los valores en el arreglo I y retorna un nuevo arreglo con las frecuencias correspondientes. El argumento minlength=len(Z)  utiliza para asegurar que el arreglo resultante tenga la misma longitud que Z.\n",
    "#Z += np.bincount(I, minlength=len(Z)) suma el arreglo resultante de np.bincount(I) al arreglo Z.\n",
    "print(Z)\n",
    "#imprime en la consola el contenido del arreglo Z después de haber sido modificado.\n",
    "np.add.at(Z, I, 1)\n",
    "# se suma 1 a las posiciones indicadas por los valores en I dentro del arreglo Z.\n",
    "print(Z)"
   ]
  },
  {
   "attachments": {},
   "cell_type": "markdown",
   "metadata": {},
   "source": [
    "12.- Considering a four dimensions array, how to get sum over the last two axis at once? (#67)"
   ]
  },
  {
   "cell_type": "code",
   "execution_count": 36,
   "metadata": {},
   "outputs": [
    {
     "name": "stdout",
     "output_type": "stream",
     "text": [
      "[[71 66 41 49]\n",
      " [55 37 65 58]\n",
      " [52 62 62 53]]\n",
      "[[71 66 41 49]\n",
      " [55 37 65 58]\n",
      " [52 62 62 53]]\n"
     ]
    }
   ],
   "source": [
    "A = np.random.randint(0,10,(3,4,3,4))\n",
    "#Se utiliza la función randint del módulo NumPy (importado previamente como np) para crear un arreglo multidimensional A de tamaño 3x4x3x4. Los elementos de A son números enteros aleatorios generados en el rango de 0 a 9.\n",
    "sum = A.sum(axis=(-2,-1))\n",
    "#sum = A.sum(axis=(-2,-1)) se calcula la suma de los elementos de A a lo largo de los ejes -2 y -1. El parámetro axis se utiliza para especificar los ejes a lo largo de los cuales se realizará la suma. El valor -2 se refiere al penúltimo eje y el valor -1 se refiere al último eje.\n",
    "#A.sum(axis=(-2,-1)) devuelve un nuevo arreglo llamado sum que contiene la suma de los elementos de A a lo largo de los ejes -2 y -1. El resultado es un arreglo de tamaño (3,4), donde cada elemento corresponde a la suma de los elementos en la misma posición a lo largo de los ejes -2 y -1.\n",
    "print(sum)\n",
    "sum = A.reshape(A.shape[:-2] + (-1,)).sum(axis=-1)\n",
    "#se obtiene una tupla que contiene las dimensiones de A excepto las correspondientes a los dos últimos ejes.\n",
    "#El uso de -1 en una dimensión implica que el tamaño de esa dimensión se calcula automáticamente para que el número total de elementos en el arreglo se mantenga igual.\n",
    "#A.reshape(A.shape[:-2] + (-1,)) redimensiona A de tal manera que las dos últimas dimensiones se convierten en una sola dimensión. \n",
    "#Esta operación calcula la suma de los elementos de A a lo largo del último eje. El parámetro axis=-1 se utiliza para especificar el último eje.\n",
    "print(sum)\n"
   ]
  },
  {
   "attachments": {},
   "cell_type": "markdown",
   "metadata": {},
   "source": [
    "13.- How to swap two rows of an array? (#72)"
   ]
  },
  {
   "cell_type": "code",
   "execution_count": 37,
   "metadata": {},
   "outputs": [
    {
     "name": "stdout",
     "output_type": "stream",
     "text": [
      "[[ 5  6  7  8  9]\n",
      " [ 0  1  2  3  4]\n",
      " [10 11 12 13 14]\n",
      " [15 16 17 18 19]\n",
      " [20 21 22 23 24]]\n"
     ]
    }
   ],
   "source": [
    "A = np.arange(25).reshape(5,5)\n",
    "A[[0,1]] = A[[1,0]]\n",
    "print(A)"
   ]
  },
  {
   "attachments": {},
   "cell_type": "markdown",
   "metadata": {},
   "source": [
    "14.-How to negate a boolean, or to change the sign of a float inplace? (#74)"
   ]
  },
  {
   "cell_type": "code",
   "execution_count": 38,
   "metadata": {},
   "outputs": [
    {
     "data": {
      "text/plain": [
       "array([-0.5025297 , -0.57389692,  0.28312425,  0.27663598, -0.07887757,\n",
       "        0.17488579, -0.79816001,  0.48609316, -0.24713178, -0.10979965,\n",
       "       -0.39841989,  0.6024119 , -0.72414019, -0.34987407, -0.02529346,\n",
       "       -0.99102988, -0.7541146 ,  0.91650495, -0.68886618,  0.62590363,\n",
       "        0.33069357,  0.47038851, -0.08919574,  0.8570939 , -0.63280548,\n",
       "       -0.68896579,  0.27450085,  0.92416227,  0.58846862, -0.43803057,\n",
       "        0.79462585, -0.89755649, -0.93549159, -0.9433218 , -0.15187007,\n",
       "       -0.01249191,  0.80916769, -0.37062436,  0.29518403,  0.31390886,\n",
       "        0.37049548, -0.15715752,  0.26557143, -0.26048578,  0.02653943,\n",
       "       -0.2071188 , -0.85278737,  0.21175361, -0.2891841 ,  0.70583696,\n",
       "        0.70756342,  0.13885536, -0.83527478, -0.18530567,  0.9615043 ,\n",
       "        0.21001835,  0.06098072, -0.14420034, -0.0117949 , -0.86978044,\n",
       "       -0.91440846, -0.16145214, -0.66422463, -0.34185332,  0.65683666,\n",
       "       -0.84783531, -0.57861835,  0.91558803, -0.16384308,  0.18440314,\n",
       "        0.77002846,  0.78245026,  0.92497008,  0.01890458,  0.41591106,\n",
       "       -0.45349293,  0.18461626,  0.20888509, -0.6882426 , -0.69927181,\n",
       "       -0.3893723 ,  0.26823345,  0.69581996,  0.98041446,  0.116323  ,\n",
       "        0.94580059,  0.7935535 , -0.51275855, -0.55935682,  0.71189232,\n",
       "        0.958268  ,  0.0784667 , -0.76241228,  0.71858337, -0.46857368,\n",
       "        0.88767983, -0.84531119, -0.71444249, -0.78015247, -0.72493719])"
      ]
     },
     "execution_count": 38,
     "metadata": {},
     "output_type": "execute_result"
    }
   ],
   "source": [
    "Z = np.random.randint(0,2,100)\n",
    "np.logical_not(Z, out=Z)\n",
    "\n",
    "Z = np.random.uniform(-1.0,1.0,100)\n",
    "np.negative(Z, out=Z)"
   ]
  },
  {
   "attachments": {},
   "cell_type": "markdown",
   "metadata": {},
   "source": [
    "15.- How to find the most frequent value in an array? (#83)"
   ]
  },
  {
   "cell_type": "code",
   "execution_count": 39,
   "metadata": {},
   "outputs": [
    {
     "name": "stdout",
     "output_type": "stream",
     "text": [
      "3\n"
     ]
    }
   ],
   "source": [
    "Z = np.random.randint(0,10,50)\n",
    "print(np.bincount(Z).argmax())"
   ]
  },
  {
   "attachments": {},
   "cell_type": "markdown",
   "metadata": {},
   "source": [
    "16.- Consider a set of p matrices with shape (n,n) and a set of p vectors with shape (n,1). How to compute the sum of of the p matrix products at once? (result has shape (n,1)) (#86)"
   ]
  },
  {
   "cell_type": "code",
   "execution_count": 40,
   "metadata": {},
   "outputs": [
    {
     "name": "stdout",
     "output_type": "stream",
     "text": [
      "[[200.]\n",
      " [200.]\n",
      " [200.]\n",
      " [200.]\n",
      " [200.]\n",
      " [200.]\n",
      " [200.]\n",
      " [200.]\n",
      " [200.]\n",
      " [200.]\n",
      " [200.]\n",
      " [200.]\n",
      " [200.]\n",
      " [200.]\n",
      " [200.]\n",
      " [200.]\n",
      " [200.]\n",
      " [200.]\n",
      " [200.]\n",
      " [200.]]\n"
     ]
    }
   ],
   "source": [
    "p, n = 10, 20\n",
    "M = np.ones((p,n,n))\n",
    "V = np.ones((p,n,1))\n",
    "S = np.tensordot(M, V, axes=[[0, 2], [0, 1]])\n",
    "print(S)\n"
   ]
  }
 ],
 "metadata": {
  "kernelspec": {
   "display_name": "base",
   "language": "python",
   "name": "python3"
  },
  "language_info": {
   "codemirror_mode": {
    "name": "ipython",
    "version": 3
   },
   "file_extension": ".py",
   "mimetype": "text/x-python",
   "name": "python",
   "nbconvert_exporter": "python",
   "pygments_lexer": "ipython3",
   "version": "3.10.9"
  },
  "orig_nbformat": 4
 },
 "nbformat": 4,
 "nbformat_minor": 2
}
