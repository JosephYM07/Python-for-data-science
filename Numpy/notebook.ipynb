{
 "cells": [
  {
   "attachments": {},
   "cell_type": "markdown",
   "metadata": {},
   "source": [
    "# Deber Numpy\n",
    "\n",
    "Dentro del grupo asignado (2 o 3 estudiantes) realizar 50  ejercicios del archivo: Numpy - 100 Exercises.pdf\n",
    "\n",
    "Nombres:\n",
    "\n",
    "-  \n",
    "- \n",
    "- Yépez Marín"
   ]
  },
  {
   "attachments": {},
   "cell_type": "markdown",
   "metadata": {},
   "source": [
    "#### 1. Import the numpy package under the name np"
   ]
  },
  {
   "cell_type": "code",
   "execution_count": 1,
   "metadata": {},
   "outputs": [],
   "source": [
    "import numpy as np"
   ]
  },
  {
   "attachments": {},
   "cell_type": "markdown",
   "metadata": {},
   "source": [
    "#### 2. Print the numpy version and the configuration "
   ]
  },
  {
   "cell_type": "code",
   "execution_count": 2,
   "metadata": {},
   "outputs": [
    {
     "name": "stdout",
     "output_type": "stream",
     "text": [
      "1.23.5\n"
     ]
    }
   ],
   "source": [
    "print(np.__version__)"
   ]
  },
  {
   "attachments": {},
   "cell_type": "markdown",
   "metadata": {},
   "source": [
    "3. Create a 3x3 matrix with values ranging from 0 to 8"
   ]
  },
  {
   "cell_type": "code",
   "execution_count": 7,
   "metadata": {},
   "outputs": [
    {
     "name": "stdout",
     "output_type": "stream",
     "text": [
      "Los valores de la matriz son: \n",
      " [[0 1 2]\n",
      " [3 4 5]\n",
      " [6 7 8]]\n"
     ]
    }
   ],
   "source": [
    "values = np.arange(9).reshape(3, 3)\n",
    "print(f\"Los valores de la matriz son: \\n {values}\" )"
   ]
  },
  {
   "attachments": {},
   "cell_type": "markdown",
   "metadata": {},
   "source": [
    "#### 4. Create a random vector of size 30 and find the mean value (★☆☆)"
   ]
  },
  {
   "cell_type": "code",
   "execution_count": 38,
   "metadata": {},
   "outputs": [
    {
     "name": "stdout",
     "output_type": "stream",
     "text": [
      "Valores agregados a la matriz \n",
      "\n",
      "[0.50878651 0.83050957 0.07288941 0.21976997 0.30470886 0.74812294\n",
      " 0.95263009 0.76874964 0.69580087 0.30561777 0.54046688 0.345019\n",
      " 0.36364761 0.34338651 0.48021903 0.30753666 0.49268005 0.60368956\n",
      " 0.17955302 0.01450751 0.80287778 0.33978486 0.31687286 0.35033181\n",
      " 0.58161786 0.2897356  0.10302553 0.70727002 0.9485826  0.01827689]\n",
      "\n",
      "Media de la matriz 0.45\n"
     ]
    }
   ],
   "source": [
    "X=np.random.random(30)\n",
    "mean=X.mean()\n",
    "round_values=round(mean,2)\n",
    "print(f\"Valores agregados a la matriz \\n\\n{X}\");\n",
    "print(f\"\\nMedia de la matriz {round_values}\")"
   ]
  },
  {
   "attachments": {},
   "cell_type": "markdown",
   "metadata": {},
   "source": [
    "#### 5. Multiply a 5x3 matrix by a 3x2 matrix (real matrix product)"
   ]
  },
  {
   "cell_type": "code",
   "execution_count": 43,
   "metadata": {},
   "outputs": [
    {
     "name": "stdout",
     "output_type": "stream",
     "text": [
      "Matriz 1\n",
      " [[0.33683249 0.2962795  0.92875867]\n",
      " [0.52066088 0.65209445 0.68897618]\n",
      " [0.88057921 0.33078458 0.06495265]\n",
      " [0.50809805 0.72607717 0.7264865 ]\n",
      " [0.57200726 0.36718531 0.9070591 ]]\n",
      "Matriz 2\n",
      " [[0.36740643 0.44667924]\n",
      " [0.95188967 0.93871651]\n",
      " [0.70038211 0.14449818]]\n",
      "\n",
      "Producto: \n",
      "[[1.05626578 0.56278248]\n",
      " [1.29456272 0.94425604]\n",
      " [0.68389257 0.71323494]\n",
      " [1.386642   1.01351345]\n",
      " [1.19496702 0.73125507]]\n"
     ]
    }
   ],
   "source": [
    "matrix1=np.random.rand(5,3)\n",
    "matrix2=np.random.rand(3,2)\n",
    "result=np.dot(matrix1,matrix2)\n",
    "print(f\"Matriz 1\\n {matrix1}\")\n",
    "print(f\"Matriz 2\\n {matrix2}\")\n",
    "print(f\"\\nProducto: \\n{result}\")"
   ]
  }
 ],
 "metadata": {
  "kernelspec": {
   "display_name": "base",
   "language": "python",
   "name": "python3"
  },
  "language_info": {
   "codemirror_mode": {
    "name": "ipython",
    "version": 3
   },
   "file_extension": ".py",
   "mimetype": "text/x-python",
   "name": "python",
   "nbconvert_exporter": "python",
   "pygments_lexer": "ipython3",
   "version": "3.10.9"
  },
  "orig_nbformat": 4
 },
 "nbformat": 4,
 "nbformat_minor": 2
}
