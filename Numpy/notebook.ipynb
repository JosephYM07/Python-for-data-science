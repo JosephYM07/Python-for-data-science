{
 "cells": [
  {
   "attachments": {},
   "cell_type": "markdown",
   "metadata": {},
   "source": [
    "# Deber Numpy\n",
    "\n",
    "Dentro del grupo asignado (2 o 3 estudiantes) realizar 50  ejercicios del archivo: Numpy - 100 Exercises.pdf\n",
    "\n",
    "Nombres:\n",
    "\n",
    "-  \n",
    "- \n",
    "- Yépez Marín"
   ]
  },
  {
   "attachments": {},
   "cell_type": "markdown",
   "metadata": {},
   "source": [
    "#### 1. Import the numpy package under the name np"
   ]
  },
  {
   "cell_type": "code",
   "execution_count": 1,
   "metadata": {},
   "outputs": [],
   "source": [
    "import numpy as np"
   ]
  },
  {
   "attachments": {},
   "cell_type": "markdown",
   "metadata": {},
   "source": [
    "#### 2. Print the numpy version and the configuration "
   ]
  },
  {
   "cell_type": "code",
   "execution_count": 2,
   "metadata": {},
   "outputs": [
    {
     "name": "stdout",
     "output_type": "stream",
     "text": [
      "1.24.3\n"
     ]
    }
   ],
   "source": [
    "print(np.__version__)"
   ]
  },
  {
   "attachments": {},
   "cell_type": "markdown",
   "metadata": {},
   "source": [
    "3. Create a 3x3 matrix with values ranging from 0 to 8"
   ]
  },
  {
   "cell_type": "code",
   "execution_count": 3,
   "metadata": {},
   "outputs": [
    {
     "name": "stdout",
     "output_type": "stream",
     "text": [
      "Los valores de la matriz son: \n",
      " [[0 1 2]\n",
      " [3 4 5]\n",
      " [6 7 8]]\n"
     ]
    }
   ],
   "source": [
    "values = np.arange(9).reshape(3, 3)\n",
    "print(f\"Los valores de la matriz son: \\n {values}\" )"
   ]
  },
  {
   "attachments": {},
   "cell_type": "markdown",
   "metadata": {},
   "source": [
    "#### 4. Create a random vector of size 30 and find the mean value (★☆☆)"
   ]
  },
  {
   "cell_type": "code",
   "execution_count": 4,
   "metadata": {},
   "outputs": [
    {
     "name": "stdout",
     "output_type": "stream",
     "text": [
      "Valores agregados a la matriz \n",
      "\n",
      "[0.54669565 0.77194807 0.23176071 0.14976232 0.14825872 0.44780364\n",
      " 0.50197349 0.01610183 0.26838772 0.22783895 0.51726069 0.8285596\n",
      " 0.10628168 0.51061082 0.67566514 0.78145088 0.63574614 0.96536998\n",
      " 0.12738556 0.31370737 0.88453654 0.35682032 0.27046799 0.68941955\n",
      " 0.63701964 0.08985968 0.74181338 0.91774087 0.93745052 0.6547977 ]\n",
      "\n",
      "Media de la matriz 0.5\n"
     ]
    }
   ],
   "source": [
    "X=np.random.random(30)\n",
    "mean=X.mean()\n",
    "round_values=round(mean,2)\n",
    "print(f\"Valores agregados a la matriz \\n\\n{X}\");\n",
    "print(f\"\\nMedia de la matriz {round_values}\")"
   ]
  },
  {
   "attachments": {},
   "cell_type": "markdown",
   "metadata": {},
   "source": [
    "#### 5. Multiply a 5x3 matrix by a 3x2 matrix (real matrix product)"
   ]
  },
  {
   "cell_type": "code",
   "execution_count": 5,
   "metadata": {},
   "outputs": [
    {
     "name": "stdout",
     "output_type": "stream",
     "text": [
      "Matriz 1\n",
      " [[0.41238784 0.20274844 0.87263156]\n",
      " [0.179928   0.73114347 0.53421005]\n",
      " [0.09826311 0.14985977 0.34900841]\n",
      " [0.3368992  0.64169511 0.22260083]\n",
      " [0.42418118 0.29621035 0.01577543]]\n",
      "Matriz 2\n",
      " [[0.2400688  0.03380676]\n",
      " [0.77097053 0.39474424]\n",
      " [0.12515846 0.88354739]]\n",
      "\n",
      "Producto: \n",
      "[[0.36453175 0.86498661]\n",
      " [0.67374607 0.76669735]\n",
      " [0.18280872 0.37084371]\n",
      " [0.60346738 0.4613733 ]\n",
      " [0.33217654 0.14520586]]\n"
     ]
    }
   ],
   "source": [
    "matrix1=np.random.rand(5,3)\n",
    "matrix2=np.random.rand(3,2)\n",
    "result=np.dot(matrix1,matrix2)\n",
    "print(f\"Matriz 1\\n {matrix1}\")\n",
    "print(f\"Matriz 2\\n {matrix2}\")\n",
    "print(f\"\\nProducto: \\n{result}\")"
   ]
  },
  {
   "cell_type": "code",
   "execution_count": 6,
   "metadata": {},
   "outputs": [
    {
     "name": "stdout",
     "output_type": "stream",
     "text": [
      "[[1. 1. 1. 1. 1. 1. 1. 1. 1. 1.]\n",
      " [1. 0. 0. 0. 0. 0. 0. 0. 0. 1.]\n",
      " [1. 0. 0. 0. 0. 0. 0. 0. 0. 1.]\n",
      " [1. 0. 0. 0. 0. 0. 0. 0. 0. 1.]\n",
      " [1. 0. 0. 0. 0. 0. 0. 0. 0. 1.]\n",
      " [1. 0. 0. 0. 0. 0. 0. 0. 0. 1.]\n",
      " [1. 0. 0. 0. 0. 0. 0. 0. 0. 1.]\n",
      " [1. 0. 0. 0. 0. 0. 0. 0. 0. 1.]\n",
      " [1. 0. 0. 0. 0. 0. 0. 0. 0. 1.]\n",
      " [1. 1. 1. 1. 1. 1. 1. 1. 1. 1.]]\n"
     ]
    }
   ],
   "source": [
    "Z = np.ones((10,10))\n",
    "Z[1:-1,1:-1] = 0\n",
    "print(Z)"
   ]
  },
  {
   "attachments": {},
   "cell_type": "markdown",
   "metadata": {},
   "source": [
    "Alejandro Moreira\n"
   ]
  },
  {
   "attachments": {},
   "cell_type": "markdown",
   "metadata": {},
   "source": [
    " 1.- How to find the memory size of any array  (#4)"
   ]
  },
  {
   "cell_type": "code",
   "execution_count": 7,
   "metadata": {},
   "outputs": [
    {
     "name": "stdout",
     "output_type": "stream",
     "text": [
      "800 bytes\n"
     ]
    }
   ],
   "source": [
    "z=np.zeros((10,10))   #crea una matriz de ceros de 10 filas y 10 columnas\n",
    "print(\"%d bytes\" % (z.size*z.itemsize))   # imprime la cantidad de bytes que ocupa la matriz z"
   ]
  },
  {
   "attachments": {},
   "cell_type": "markdown",
   "metadata": {},
   "source": [
    "2.- Create a null vector of size 10    (#3)"
   ]
  },
  {
   "cell_type": "code",
   "execution_count": 8,
   "metadata": {},
   "outputs": [
    {
     "name": "stdout",
     "output_type": "stream",
     "text": [
      "[0. 0. 0. 0. 0. 0. 0. 0. 0. 0.]\n"
     ]
    }
   ],
   "source": [
    "z=np.zeros(10)  #arreglo unidimensional de tamaño 10 lleno de ceros\n",
    "print(z)  #toma el arreglo z como argumento y muestra su contenido en la consola"
   ]
  },
  {
   "attachments": {},
   "cell_type": "markdown",
   "metadata": {},
   "source": [
    "3.- Create a null vector of size 10 but the fifth value which is 1     (#6)"
   ]
  },
  {
   "cell_type": "code",
   "execution_count": 9,
   "metadata": {},
   "outputs": [
    {
     "name": "stdout",
     "output_type": "stream",
     "text": [
      "[0. 0. 0. 0. 1. 0. 0. 0. 0. 0.]\n"
     ]
    }
   ],
   "source": [
    "z=np.zeros(10)  #crea un arreglo unidimensional de tamaño 10 lleno de ceros\n",
    "z[4]=1   #asigna el valor 1 al quinto elemento (índice 4) del arreglo z\n",
    "print(z)  #imprime el arreglo z"
   ]
  },
  {
   "attachments": {},
   "cell_type": "markdown",
   "metadata": {},
   "source": [
    "4.- Reverse a vector (first element becomes last)     (#8)"
   ]
  },
  {
   "cell_type": "code",
   "execution_count": 10,
   "metadata": {},
   "outputs": [
    {
     "name": "stdout",
     "output_type": "stream",
     "text": [
      "[49 48 47 46 45 44 43 42 41 40 39 38 37 36 35 34 33 32 31 30 29 28 27 26\n",
      " 25 24 23 22 21 20 19 18 17 16 15 14 13 12 11 10  9  8  7  6  5  4  3  2\n",
      "  1  0]\n"
     ]
    }
   ],
   "source": [
    "z=np.arange(50)  #genera una secuencia de números desde 0 hasta 49.\n",
    "z=z[::-1]    #muestra los elementos del arreglo en orden inverso\n",
    "print(z)"
   ]
  },
  {
   "attachments": {},
   "cell_type": "markdown",
   "metadata": {},
   "source": [
    "5.- Create a 3x3 identity matrix   (#11)"
   ]
  },
  {
   "cell_type": "code",
   "execution_count": 11,
   "metadata": {},
   "outputs": [
    {
     "name": "stdout",
     "output_type": "stream",
     "text": [
      "[[1. 0. 0.]\n",
      " [0. 1. 0.]\n",
      " [0. 0. 1.]]\n"
     ]
    }
   ],
   "source": [
    "z=np.eye(3)   # crea una matriz cuadrada con unos en la diagonal principal y ceros en el resto de las posiciones\n",
    "print(z)  "
   ]
  },
  {
   "attachments": {},
   "cell_type": "markdown",
   "metadata": {},
   "source": [
    "6.-  Extract the integer part of a random array of positive numbers using 4 different methods (#36)"
   ]
  },
  {
   "cell_type": "code",
   "execution_count": 12,
   "metadata": {},
   "outputs": [
    {
     "name": "stdout",
     "output_type": "stream",
     "text": [
      "[7. 2. 8. 4. 0. 5. 6. 3. 2. 1.]\n",
      "[7. 2. 8. 4. 0. 5. 6. 3. 2. 1.]\n",
      "[7. 2. 8. 4. 0. 5. 6. 3. 2. 1.]\n",
      "[7 2 8 4 0 5 6 3 2 1]\n",
      "[7. 2. 8. 4. 0. 5. 6. 3. 2. 1.]\n"
     ]
    }
   ],
   "source": [
    "z=np.random.uniform(0,10,10)   #genera un arreglo unidimensional de tamaño 10 con valores aleatorios distribuidos en el rango de 0 a 10\n",
    "print(z-z%1)    #imprime el resultado de restarle el residuo de la división entera de cada elemento de z por 1\n",
    "print(z//1)     #imprime  el resultado de dividir cada elemento de z por 1 utilizando la división entera\n",
    "print(np.floor(z))    #imprime el resultado y redondea hacia abajo cada número al entero más cercano\n",
    "print(z.astype(int))  #cambia el tipo de datos del arreglo, convierte cada elemento de z en un número entero\n",
    "print(np.trunc(z))    #trunca los decimales de cada número en el arreglo, dejando solo la parte entera"
   ]
  },
  {
   "attachments": {},
   "cell_type": "markdown",
   "metadata": {},
   "source": [
    "7.- How to get all the dates corresponding to the month of July 2016? (#34)"
   ]
  },
  {
   "cell_type": "code",
   "execution_count": 13,
   "metadata": {},
   "outputs": [
    {
     "name": "stdout",
     "output_type": "stream",
     "text": [
      "['2016-07-01' '2016-07-02' '2016-07-03' '2016-07-04' '2016-07-05'\n",
      " '2016-07-06' '2016-07-07' '2016-07-08' '2016-07-09' '2016-07-10'\n",
      " '2016-07-11' '2016-07-12' '2016-07-13' '2016-07-14' '2016-07-15'\n",
      " '2016-07-16' '2016-07-17' '2016-07-18' '2016-07-19' '2016-07-20'\n",
      " '2016-07-21' '2016-07-22' '2016-07-23' '2016-07-24' '2016-07-25'\n",
      " '2016-07-26' '2016-07-27' '2016-07-28' '2016-07-29' '2016-07-30'\n",
      " '2016-07-31']\n"
     ]
    }
   ],
   "source": [
    "z=np.arange('2016-07', '2016-08', dtype='datetime64[D]')   #muestra fechas dentro de un rango específico\n",
    "print(z)"
   ]
  },
  {
   "attachments": {},
   "cell_type": "markdown",
   "metadata": {},
   "source": [
    "8.-Consider a generator function that generates 10 integers and use it to build an array (#38)"
   ]
  },
  {
   "cell_type": "code",
   "execution_count": 14,
   "metadata": {},
   "outputs": [
    {
     "name": "stdout",
     "output_type": "stream",
     "text": [
      "[0. 1. 2. 3. 4. 5. 6. 7. 8. 9.]\n"
     ]
    }
   ],
   "source": [
    "def generate():\n",
    "    for x in range(10):    # recorre los valores del rango desde 0 hasta 9 \n",
    "        yield x            #  genera un valor en cada iteración del bucle  \n",
    "z=np.fromiter(generate(),dtype=float,count=-1)  # los valores se convierten en números de punto flotante y se asignan a la variable z.\n",
    "print(z)"
   ]
  },
  {
   "attachments": {},
   "cell_type": "markdown",
   "metadata": {},
   "source": [
    "9.- Consider a random 10x2 matrix representing cartesian coordinates, convert them to polar coordinates (#44)"
   ]
  },
  {
   "cell_type": "code",
   "execution_count": 15,
   "metadata": {},
   "outputs": [
    {
     "name": "stdout",
     "output_type": "stream",
     "text": [
      "[1.15013606 0.97655976 0.42252476 0.07065711 0.7817141  0.2942099\n",
      " 0.78491437 0.4835368  0.87356878 1.19538629]\n",
      "[0.71343573 0.23259009 1.32784298 1.47036002 0.5159127  1.38741916\n",
      " 0.90368142 1.44283035 0.68397857 0.63971554]\n"
     ]
    }
   ],
   "source": [
    "z=np.random.random((10,2))  #genera una matriz de tamaño 10x2 con valores aleatorios en el rango [0, 1)\n",
    "x,y=z[:,0],z[:,1]           #extrae las columnas 0 y 1 de la matriz z y las asigna a las variables x e y respectivamente \n",
    "R=np.sqrt(x**2+y**2)        #calcula la magnitud o módulo de los vectores bidimensionales representados por las columnas x e y\n",
    "T=np.arctan2(y,x)           #calcula el ángulo en radianes de los vectores bidimensionales representados por las columnas x e y\n",
    "print(R)\n",
    "print(T)"
   ]
  },
  {
   "attachments": {},
   "cell_type": "markdown",
   "metadata": {},
   "source": [
    "10.- Create a structured array representing a position (x,y) and a color (r,g,b) (#51)"
   ]
  },
  {
   "cell_type": "code",
   "execution_count": 16,
   "metadata": {},
   "outputs": [
    {
     "name": "stdout",
     "output_type": "stream",
     "text": [
      "[((0., 0.), (0., 0., 0.)) ((0., 0.), (0., 0., 0.))\n",
      " ((0., 0.), (0., 0., 0.)) ((0., 0.), (0., 0., 0.))\n",
      " ((0., 0.), (0., 0., 0.)) ((0., 0.), (0., 0., 0.))\n",
      " ((0., 0.), (0., 0., 0.)) ((0., 0.), (0., 0., 0.))\n",
      " ((0., 0.), (0., 0., 0.)) ((0., 0.), (0., 0., 0.))]\n"
     ]
    },
    {
     "name": "stderr",
     "output_type": "stream",
     "text": [
      "C:\\Users\\User\\AppData\\Local\\Temp\\ipykernel_13100\\2594699285.py:1: FutureWarning: Passing (type, 1) or '1type' as a synonym of type is deprecated; in a future version of numpy, it will be understood as (type, (1,)) / '(1,)type'.\n",
      "  z = np.zeros(10, [ ('position', [ ('x', float, 1),\n"
     ]
    }
   ],
   "source": [
    "z = np.zeros(10, [ ('position', [ ('x', float, 1),       \n",
    "                                  ('y', float, 1)]),\n",
    "                   ('color',    [ ('r', float, 1),\n",
    "                                  ('g', float, 1),\n",
    "                                  ('b', float, 1)])])      #crea un arreglo estructurado de tamaño 10 que consta de dos campos: 'position' y 'color'\n",
    "print(z)"
   ]
  },
  {
   "attachments": {},
   "cell_type": "markdown",
   "metadata": {},
   "source": [
    "11.- What is the equivalent of enumerate for numpy arrays? (#55)"
   ]
  },
  {
   "cell_type": "code",
   "execution_count": 17,
   "metadata": {},
   "outputs": [
    {
     "name": "stdout",
     "output_type": "stream",
     "text": [
      "(0, 0) 0\n",
      "(0, 1) 1\n",
      "(0, 2) 2\n",
      "(1, 0) 3\n",
      "(1, 1) 4\n",
      "(1, 2) 5\n",
      "(2, 0) 6\n",
      "(2, 1) 7\n",
      "(2, 2) 8\n",
      "(0, 0) 0\n",
      "(0, 1) 1\n",
      "(0, 2) 2\n",
      "(1, 0) 3\n",
      "(1, 1) 4\n",
      "(1, 2) 5\n",
      "(2, 0) 6\n",
      "(2, 1) 7\n",
      "(2, 2) 8\n"
     ]
    }
   ],
   "source": [
    "z=np.arange(9).reshape(3,3)   #crea un arreglo unidimensional utilizando la función arange de NumPy para generar los valores del 0 al 8\n",
    "for index,value in np.ndenumerate(z):  #itera sobre los índices y valores de la matriz z\n",
    "    print(index,value)                 #imprime el índice y el valor correspondiente en cada iteración del bucle\n",
    "for index in np.ndindex(z.shape):      #genera un iterador que devuelve las tuplas de índices en cada iteración\n",
    "    print(index,z[index])              #imprime en la consola el índice y el valor correspondiente en la matriz z en cada iteración del bucle"
   ]
  },
  {
   "attachments": {},
   "cell_type": "markdown",
   "metadata": {},
   "source": [
    "12.- How to randomly place p elements in a 2D array? (#57)"
   ]
  },
  {
   "cell_type": "code",
   "execution_count": 18,
   "metadata": {},
   "outputs": [
    {
     "name": "stdout",
     "output_type": "stream",
     "text": [
      "[[0. 0. 0. 0. 0. 0. 0. 0. 0. 0.]\n",
      " [0. 0. 0. 0. 0. 0. 0. 0. 0. 1.]\n",
      " [0. 0. 1. 0. 0. 0. 0. 0. 0. 0.]\n",
      " [0. 0. 0. 0. 0. 0. 0. 0. 0. 0.]\n",
      " [1. 0. 0. 0. 0. 0. 0. 0. 0. 0.]\n",
      " [0. 0. 0. 0. 0. 0. 0. 0. 0. 0.]\n",
      " [0. 0. 0. 0. 0. 0. 0. 0. 0. 0.]\n",
      " [0. 0. 0. 0. 0. 0. 0. 0. 0. 0.]\n",
      " [0. 0. 0. 0. 0. 0. 0. 0. 0. 0.]\n",
      " [0. 0. 0. 0. 0. 0. 0. 0. 0. 0.]]\n"
     ]
    }
   ],
   "source": [
    "n=10  #asigna el valor 10 a la variable n\n",
    "p=3   #asigna el valor 3 a la variable p\n",
    "z=np.zeros((n,n))  #crea una matriz cuadrada de tamaño n x n \n",
    "np.put(z,np.random.choice(range(n*n),p,replace=True),1)  #selecciona índices aleatorios y cambia los valores correspondientes a 1 \n",
    "print(z)"
   ]
  },
  {
   "attachments": {},
   "cell_type": "markdown",
   "metadata": {},
   "source": [
    "13.- How to accumulate elements of a vector (X) to an array (F) based on an index list (I)? (#65)"
   ]
  },
  {
   "cell_type": "code",
   "execution_count": 19,
   "metadata": {},
   "outputs": [
    {
     "name": "stdout",
     "output_type": "stream",
     "text": [
      "[0. 7. 0. 6. 5. 0. 0. 0. 0. 3.]\n"
     ]
    }
   ],
   "source": [
    "x=[1,2,3,4,5,6]    #crea una lista x que contiene valores numéricos del 1 al 6\n",
    "i=[1,3,9,3,4,1]    # crea una lista i que contiene índices\n",
    "f=np.bincount(i,x) #cuenta los elementos de una lista x utilizando una lista de índices i\n",
    "print(f)"
   ]
  },
  {
   "attachments": {},
   "cell_type": "markdown",
   "metadata": {},
   "source": [
    "14.- Considering a (w,h,3) image of (dtype=ubyte), compute the number of unique colors  (#66)"
   ]
  },
  {
   "cell_type": "code",
   "execution_count": 20,
   "metadata": {},
   "outputs": [
    {
     "name": "stdout",
     "output_type": "stream",
     "text": [
      "64\n",
      "64\n"
     ]
    }
   ],
   "source": [
    "w,h=256,256  #asigna los valores 256 a las variables w y h. Estas variables representan el ancho y la altura de una imagen\n",
    "i=np.random.randint(0,4,(h,w,3)).astype(np.ubyte)  #crea un arreglo tridimensional i de forma (h, w, 3). Los valores generados están en el rango de 0 a 4\n",
    "colors=np.unique(i.reshape(-1,3),axis=0) #cambia la forma del arreglo i a una matriz bidimensional de forma (-1, 3), donde -1 indica que se ajustará automáticamente el tamaño\n",
    "n=len(colors) #representa la cantidad de colores únicos presentes en la imagen\n",
    "print(n)\n",
    "w,h=256,256 #asigna nuevamente los valores 256 a las variables w y h\n",
    "i=np.random.randint(0,4,(h,w,3),dtype=np.uint8) #crea un nuevo arreglo i de forma (h, w, 3). Los valores generados están en el rango de 0 a 4\n",
    "i24=np.dot(i.astype(np.uint32),[1,256,65536]) #realiza una multiplicación matricial entre el arreglo i y una matriz de coeficientes [1, 256, 65536]\n",
    "n=len(np.unique(i24)) #calcula la cantidad de valores únicos en el arreglo i24 \n",
    "print(n)"
   ]
  },
  {
   "attachments": {},
   "cell_type": "markdown",
   "metadata": {},
   "source": [
    "15.- Consider an array of dimension (5,5,3), how to mulitply it by an array with dimensions (5,5)?   (#71)"
   ]
  },
  {
   "cell_type": "code",
   "execution_count": 21,
   "metadata": {},
   "outputs": [
    {
     "name": "stdout",
     "output_type": "stream",
     "text": [
      "[[[2. 2. 2.]\n",
      "  [2. 2. 2.]\n",
      "  [2. 2. 2.]\n",
      "  [2. 2. 2.]\n",
      "  [2. 2. 2.]]\n",
      "\n",
      " [[2. 2. 2.]\n",
      "  [2. 2. 2.]\n",
      "  [2. 2. 2.]\n",
      "  [2. 2. 2.]\n",
      "  [2. 2. 2.]]\n",
      "\n",
      " [[2. 2. 2.]\n",
      "  [2. 2. 2.]\n",
      "  [2. 2. 2.]\n",
      "  [2. 2. 2.]\n",
      "  [2. 2. 2.]]\n",
      "\n",
      " [[2. 2. 2.]\n",
      "  [2. 2. 2.]\n",
      "  [2. 2. 2.]\n",
      "  [2. 2. 2.]\n",
      "  [2. 2. 2.]]\n",
      "\n",
      " [[2. 2. 2.]\n",
      "  [2. 2. 2.]\n",
      "  [2. 2. 2.]\n",
      "  [2. 2. 2.]\n",
      "  [2. 2. 2.]]]\n"
     ]
    }
   ],
   "source": [
    "A=np.ones((5,5,3))  #crea un arreglo tridimensional A de tamaño (5, 5, 3)\n",
    "B=2*np.ones((5,5))  #crea un arreglo bidimensional B de tamaño (5, 5)\n",
    "print(A*B[:,:,None])  # realiza la multiplicación elemento a elemento entre un arreglo tridimensional A y un arreglo bidimensional B"
   ]
  },
  {
   "attachments": {},
   "cell_type": "markdown",
   "metadata": {},
   "source": [
    "16.- Given a sorted array C that corresponds to a bincount, how to produce an array A such that np.bincount(A) == C?   (#74)"
   ]
  },
  {
   "cell_type": "code",
   "execution_count": 22,
   "metadata": {},
   "outputs": [
    {
     "name": "stdout",
     "output_type": "stream",
     "text": [
      "[1 1 2 3 4 4 6]\n"
     ]
    }
   ],
   "source": [
    "C=np.bincount([1,1,2,3,4,4,6])  #cuenta las ocurrencias de cada número en la lista\n",
    "A=np.repeat(np.arange(len(C)),C) #crea un nuevo arreglo A que contiene las repeticiones de los números según las ocurrencias encontradas en C\n",
    "print(A)"
   ]
  },
  {
   "attachments": {},
   "cell_type": "markdown",
   "metadata": {},
   "source": [
    "17.- Consider 2 sets of points P0,P1 describing lines (2d) and a point p, how to compute distance from p to each line i (P0[i],P1[i])?  (#78)"
   ]
  },
  {
   "cell_type": "code",
   "execution_count": 23,
   "metadata": {},
   "outputs": [
    {
     "name": "stdout",
     "output_type": "stream",
     "text": [
      "[6.17808568 0.43500551 9.62031793 6.47688375 4.97465054 1.27527595\n",
      " 3.95159897 3.51330846 5.05583179 5.85503746]\n"
     ]
    }
   ],
   "source": [
    "def distance(P0,P1,p):  \n",
    "    T=P1-P0             #calcula la diferencia entre los puntos P1 y P0 y asigna el resultado a la variable T\n",
    "    L=(T**2).sum(axis=1)   #calcula la suma de los cuadrados de las componentes del vector T a lo largo del eje 1 y asigna el resultado a la variable L\n",
    "    U=-((P0[:,0]-p[...,0])*T[:,0]+(P0[:,1]-p[...,1])*T[:,1])/L  #calcula el parámetro U que indica la posición relativa del punto p a lo largo de la línea definida por P0 y P1\n",
    "    U=U.reshape(len(U),1)  #cambia la forma de U a una columna\n",
    "    D=P0+U*T-p   #calcula un vector D que representa la diferencia entre P0+U*T y p\n",
    "    return np.sqrt((D**2).sum(axis=1))  \n",
    "P0=np.random.uniform(-10,10,(10,2))      \n",
    "P1=np.random.uniform(-10,10,(10,2))      \n",
    "p=np.random.uniform(-10,10,(1,2))        \n",
    "print(distance(P0,P1,p))                 #calcula la distancia entre el punto p y la línea definida por P0 y P1 utilizando el vector D"
   ]
  },
  {
   "attachments": {},
   "cell_type": "markdown",
   "metadata": {},
   "source": [
    "18.- How to find the most frequent value in an array?  (#83)"
   ]
  },
  {
   "cell_type": "code",
   "execution_count": 24,
   "metadata": {},
   "outputs": [
    {
     "name": "stdout",
     "output_type": "stream",
     "text": [
      "<built-in method argmax of numpy.ndarray object at 0x0000020F60264450>\n"
     ]
    }
   ],
   "source": [
    "z=np.random.randint(0,10,50)   #genera un arreglo z de tamaño 50 con números enteros aleatorios en el rango de 0 a 10\n",
    "print(np.bincount(z).argmax)   #muestra en la consola el valor más común en el arreglo"
   ]
  },
  {
   "attachments": {},
   "cell_type": "markdown",
   "metadata": {},
   "source": [
    "Jared Valenzuela "
   ]
  }
 ],
 "metadata": {
  "kernelspec": {
   "display_name": "base",
   "language": "python",
   "name": "python3"
  },
  "language_info": {
   "codemirror_mode": {
    "name": "ipython",
    "version": 3
   },
   "file_extension": ".py",
   "mimetype": "text/x-python",
   "name": "python",
   "nbconvert_exporter": "python",
   "pygments_lexer": "ipython3",
   "version": "3.11.3"
  },
  "orig_nbformat": 4
 },
 "nbformat": 4,
 "nbformat_minor": 2
}
